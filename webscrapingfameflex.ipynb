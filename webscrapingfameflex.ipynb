{
 "cells": [
  {
   "cell_type": "code",
   "execution_count": 3,
   "metadata": {},
   "outputs": [
    {
     "name": "stdout",
     "output_type": "stream",
     "text": [
      "Requirement already satisfied: requests in /home/jupyterlab/conda/envs/python/lib/python3.6/site-packages (2.25.0)\n",
      "Requirement already satisfied: chardet<4,>=3.0.2 in /home/jupyterlab/conda/envs/python/lib/python3.6/site-packages (from requests) (3.0.4)\n",
      "Requirement already satisfied: urllib3<1.27,>=1.21.1 in /home/jupyterlab/conda/envs/python/lib/python3.6/site-packages (from requests) (1.25.11)\n",
      "Requirement already satisfied: certifi>=2017.4.17 in /home/jupyterlab/conda/envs/python/lib/python3.6/site-packages (from requests) (2020.12.5)\n",
      "Requirement already satisfied: idna<3,>=2.5 in /home/jupyterlab/conda/envs/python/lib/python3.6/site-packages (from requests) (2.10)\n",
      "Collecting bs4\n",
      "  Downloading https://files.pythonhosted.org/packages/10/ed/7e8b97591f6f456174139ec089c769f89a94a1a4025fe967691de971f314/bs4-0.0.1.tar.gz\n",
      "Collecting beautifulsoup4 (from bs4)\n",
      "\u001b[?25l  Downloading https://files.pythonhosted.org/packages/d1/41/e6495bd7d3781cee623ce23ea6ac73282a373088fcd0ddc809a047b18eae/beautifulsoup4-4.9.3-py3-none-any.whl (115kB)\n",
      "\u001b[K     |████████████████████████████████| 122kB 20.1MB/s eta 0:00:01\n",
      "\u001b[?25hCollecting soupsieve>1.2; python_version >= \"3.0\" (from beautifulsoup4->bs4)\n",
      "  Downloading https://files.pythonhosted.org/packages/02/fb/1c65691a9aeb7bd6ac2aa505b84cb8b49ac29c976411c6ab3659425e045f/soupsieve-2.1-py3-none-any.whl\n",
      "Building wheels for collected packages: bs4\n",
      "  Building wheel for bs4 (setup.py) ... \u001b[?25ldone\n",
      "\u001b[?25h  Stored in directory: /home/jupyterlab/.cache/pip/wheels/a0/b0/b2/4f80b9456b87abedbc0bf2d52235414c3467d8889be38dd472\n",
      "Successfully built bs4\n",
      "Installing collected packages: soupsieve, beautifulsoup4, bs4\n",
      "Successfully installed beautifulsoup4-4.9.3 bs4-0.0.1 soupsieve-2.1\n"
     ]
    }
   ],
   "source": [
    "!pip install requests\n",
    "!pip install bs4"
   ]
  },
  {
   "cell_type": "code",
   "execution_count": 4,
   "metadata": {},
   "outputs": [],
   "source": [
    "# Import libraries\n",
    "import requests\n",
    "from bs4 import BeautifulSoup"
   ]
  },
  {
   "cell_type": "code",
   "execution_count": 43,
   "metadata": {},
   "outputs": [],
   "source": [
    "page = requests.get('https://www.fameflux.com/index.php')"
   ]
  },
  {
   "cell_type": "code",
   "execution_count": 53,
   "metadata": {},
   "outputs": [],
   "source": [
    "soup = BeautifulSoup(page.text, 'html.parser')\n",
    "artist_name_list = soup.find(class_=\"row pages\")\n",
    "artist_name_list_items = artist_name_list.find_all('h5')"
   ]
  },
  {
   "cell_type": "code",
   "execution_count": 54,
   "metadata": {},
   "outputs": [
    {
     "name": "stdout",
     "output_type": "stream",
     "text": [
      "[<h5><a href=\"page.php?Name=Kobe Bryant\" style=\"font-weight:bolder;\">Kobe Bryant</a></h5>, <h5><a href=\"page.php?Name=Alicia Keys\" style=\"font-weight:bolder;\">Alicia Keys</a></h5>, <h5><a href=\"page.php?Name=Billie Eilish\" style=\"font-weight:bolder;\">Billie Eilish</a></h5>, <h5><a href=\"page.php?Name=LeBron James\" style=\"font-weight:bolder;\">LeBron James</a></h5>, <h5><a href=\"page.php?Name=Google\" style=\"font-weight:bolder;\">Google</a></h5>, <h5><a href=\"page.php?Name=Lizzo\" style=\"font-weight:bolder;\">Lizzo</a></h5>, <h5><a href=\"page.php?Name=Donald Trump\" style=\"font-weight:bolder;\">Donald Trump</a></h5>, <h5><a href=\"page.php?Name=Nick Kyrgios\" style=\"font-weight:bolder;\">Nick Kyrgios</a></h5>]\n"
     ]
    }
   ],
   "source": [
    "print (artist_name_list_items)"
   ]
  },
  {
   "cell_type": "code",
   "execution_count": 55,
   "metadata": {},
   "outputs": [
    {
     "name": "stdout",
     "output_type": "stream",
     "text": [
      "<h5>\n",
      " <a href=\"page.php?Name=Kobe Bryant\" style=\"font-weight:bolder;\">\n",
      "  Kobe Bryant\n",
      " </a>\n",
      "</h5>\n",
      "\n",
      "<h5>\n",
      " <a href=\"page.php?Name=Alicia Keys\" style=\"font-weight:bolder;\">\n",
      "  Alicia Keys\n",
      " </a>\n",
      "</h5>\n",
      "\n",
      "<h5>\n",
      " <a href=\"page.php?Name=Billie Eilish\" style=\"font-weight:bolder;\">\n",
      "  Billie Eilish\n",
      " </a>\n",
      "</h5>\n",
      "\n",
      "<h5>\n",
      " <a href=\"page.php?Name=LeBron James\" style=\"font-weight:bolder;\">\n",
      "  LeBron James\n",
      " </a>\n",
      "</h5>\n",
      "\n",
      "<h5>\n",
      " <a href=\"page.php?Name=Google\" style=\"font-weight:bolder;\">\n",
      "  Google\n",
      " </a>\n",
      "</h5>\n",
      "\n",
      "<h5>\n",
      " <a href=\"page.php?Name=Lizzo\" style=\"font-weight:bolder;\">\n",
      "  Lizzo\n",
      " </a>\n",
      "</h5>\n",
      "\n",
      "<h5>\n",
      " <a href=\"page.php?Name=Donald Trump\" style=\"font-weight:bolder;\">\n",
      "  Donald Trump\n",
      " </a>\n",
      "</h5>\n",
      "\n",
      "<h5>\n",
      " <a href=\"page.php?Name=Nick Kyrgios\" style=\"font-weight:bolder;\">\n",
      "  Nick Kyrgios\n",
      " </a>\n",
      "</h5>\n",
      "\n"
     ]
    }
   ],
   "source": [
    "for artist_name in artist_name_list_items:\n",
    "    print(artist_name.prettify())"
   ]
  },
  {
   "cell_type": "code",
   "execution_count": 47,
   "metadata": {},
   "outputs": [
    {
     "name": "stdout",
     "output_type": "stream",
     "text": [
      "<a href=\"page.php?Name=Kobe Bryant\" style=\"font-weight:bolder;\">Kobe Bryant</a>\n",
      "<a href=\"page.php?Name=Alicia Keys\" style=\"font-weight:bolder;\">Alicia Keys</a>\n",
      "<a href=\"page.php?Name=Billie Eilish\" style=\"font-weight:bolder;\">Billie Eilish</a>\n",
      "<a href=\"page.php?Name=LeBron James\" style=\"font-weight:bolder;\">LeBron James</a>\n",
      "<a href=\"page.php?Name=Google\" style=\"font-weight:bolder;\">Google</a>\n",
      "<a href=\"page.php?Name=Lizzo\" style=\"font-weight:bolder;\">Lizzo</a>\n",
      "<a href=\"page.php?Name=Donald Trump\" style=\"font-weight:bolder;\">Donald Trump</a>\n",
      "<a href=\"page.php?Name=Nick Kyrgios\" style=\"font-weight:bolder;\">Nick Kyrgios</a>\n"
     ]
    }
   ],
   "source": [
    "# Use .contents to pull out the <a> tag’s children\n",
    "for artist_name in artist_name_list_items:\n",
    "    names = artist_name.contents[0]\n",
    "    print(names)"
   ]
  },
  {
   "cell_type": "code",
   "execution_count": 48,
   "metadata": {},
   "outputs": [
    {
     "ename": "TypeError",
     "evalue": "must be str, not NoneType",
     "output_type": "error",
     "traceback": [
      "\u001b[0;31m---------------------------------------------------------------------------\u001b[0m",
      "\u001b[0;31mTypeError\u001b[0m                                 Traceback (most recent call last)",
      "\u001b[0;32m<ipython-input-48-d513ccc921e1>\u001b[0m in \u001b[0;36m<module>\u001b[0;34m\u001b[0m\n\u001b[1;32m      1\u001b[0m \u001b[0;32mfor\u001b[0m \u001b[0martist_name\u001b[0m \u001b[0;32min\u001b[0m \u001b[0martist_name_list_items\u001b[0m\u001b[0;34m:\u001b[0m\u001b[0;34m\u001b[0m\u001b[0;34m\u001b[0m\u001b[0m\n\u001b[1;32m      2\u001b[0m     \u001b[0mnames\u001b[0m \u001b[0;34m=\u001b[0m \u001b[0martist_name\u001b[0m\u001b[0;34m.\u001b[0m\u001b[0mcontents\u001b[0m\u001b[0;34m[\u001b[0m\u001b[0;36m0\u001b[0m\u001b[0;34m]\u001b[0m\u001b[0;34m\u001b[0m\u001b[0;34m\u001b[0m\u001b[0m\n\u001b[0;32m----> 3\u001b[0;31m     \u001b[0mlinks\u001b[0m \u001b[0;34m=\u001b[0m \u001b[0;34m'www.fameflux.com'\u001b[0m \u001b[0;34m+\u001b[0m \u001b[0martist_name\u001b[0m\u001b[0;34m.\u001b[0m\u001b[0mget\u001b[0m\u001b[0;34m(\u001b[0m\u001b[0;34m'href'\u001b[0m\u001b[0;34m)\u001b[0m\u001b[0;34m\u001b[0m\u001b[0;34m\u001b[0m\u001b[0m\n\u001b[0m\u001b[1;32m      4\u001b[0m     \u001b[0mprint\u001b[0m\u001b[0;34m(\u001b[0m\u001b[0mnames\u001b[0m\u001b[0;34m)\u001b[0m\u001b[0;34m\u001b[0m\u001b[0;34m\u001b[0m\u001b[0m\n\u001b[1;32m      5\u001b[0m     \u001b[0mprint\u001b[0m\u001b[0;34m(\u001b[0m\u001b[0mlinks\u001b[0m\u001b[0;34m)\u001b[0m\u001b[0;34m\u001b[0m\u001b[0;34m\u001b[0m\u001b[0m\n",
      "\u001b[0;31mTypeError\u001b[0m: must be str, not NoneType"
     ]
    }
   ],
   "source": [
    "for artist_name in artist_name_list_items:\n",
    "    names = artist_name.contents[0]\n",
    "    links = 'www.fameflux.com' + artist_name.get('href')\n",
    "    print(names)\n",
    "    print(links)"
   ]
  },
  {
   "cell_type": "code",
   "execution_count": 50,
   "metadata": {},
   "outputs": [
    {
     "name": "stdout",
     "output_type": "stream",
     "text": [
      "None\n"
     ]
    }
   ],
   "source": []
  },
  {
   "cell_type": "code",
   "execution_count": null,
   "metadata": {},
   "outputs": [],
   "source": []
  }
 ],
 "metadata": {
  "kernelspec": {
   "display_name": "Python",
   "language": "python",
   "name": "conda-env-python-py"
  },
  "language_info": {
   "codemirror_mode": {
    "name": "ipython",
    "version": 3
   },
   "file_extension": ".py",
   "mimetype": "text/x-python",
   "name": "python",
   "nbconvert_exporter": "python",
   "pygments_lexer": "ipython3",
   "version": "3.6.12"
  }
 },
 "nbformat": 4,
 "nbformat_minor": 4
}
