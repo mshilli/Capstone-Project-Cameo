{
 "cells": [
  {
   "cell_type": "code",
   "execution_count": 1,
   "metadata": {},
   "outputs": [
    {
     "name": "stdout",
     "output_type": "stream",
     "text": [
      "Requirement already satisfied: bs4 in /home/jupyterlab/conda/envs/python/lib/python3.6/site-packages (0.0.1)\n",
      "Requirement already satisfied: beautifulsoup4 in /home/jupyterlab/conda/envs/python/lib/python3.6/site-packages (from bs4) (4.9.3)\n",
      "Requirement already satisfied: soupsieve>1.2; python_version >= \"3.0\" in /home/jupyterlab/conda/envs/python/lib/python3.6/site-packages (from beautifulsoup4->bs4) (2.1)\n",
      "Requirement already satisfied: requests in /home/jupyterlab/conda/envs/python/lib/python3.6/site-packages (2.25.0)\n",
      "Requirement already satisfied: chardet<4,>=3.0.2 in /home/jupyterlab/conda/envs/python/lib/python3.6/site-packages (from requests) (3.0.4)\n",
      "Requirement already satisfied: urllib3<1.27,>=1.21.1 in /home/jupyterlab/conda/envs/python/lib/python3.6/site-packages (from requests) (1.25.11)\n",
      "Requirement already satisfied: certifi>=2017.4.17 in /home/jupyterlab/conda/envs/python/lib/python3.6/site-packages (from requests) (2020.12.5)\n",
      "Requirement already satisfied: idna<3,>=2.5 in /home/jupyterlab/conda/envs/python/lib/python3.6/site-packages (from requests) (2.10)\n"
     ]
    }
   ],
   "source": [
    "### installing beautiful soup for web scrapping\n",
    "!pip install bs4\n",
    "\n",
    "### installing requests so I can pull in html data\n",
    "!pip install requests"
   ]
  },
  {
   "cell_type": "code",
   "execution_count": 17,
   "metadata": {},
   "outputs": [],
   "source": [
    "import requests\n",
    "from bs4 import BeautifulSoup\n",
    "\n",
    "URL = 'https://www.cameo.com/test14219?qid=1611179412'\n",
    "page = requests.get(URL)\n",
    "\n",
    "soup = BeautifulSoup(page.content, 'html.parser')"
   ]
  },
  {
   "cell_type": "code",
   "execution_count": 18,
   "metadata": {},
   "outputs": [
    {
     "data": {
      "text/plain": [
       "<!DOCTYPE html>\n",
       "\n",
       "<!--[if lt IE 7]> <html class=\"no-js ie6 oldie\" lang=\"en-US\"> <![endif]-->\n",
       "<!--[if IE 7]>    <html class=\"no-js ie7 oldie\" lang=\"en-US\"> <![endif]-->\n",
       "<!--[if IE 8]>    <html class=\"no-js ie8 oldie\" lang=\"en-US\"> <![endif]-->\n",
       "<!--[if gt IE 8]><!--> <html class=\"no-js\" lang=\"en-US\"> <!--<![endif]-->\n",
       "<head>\n",
       "<title>Access denied | www.cameo.com used Cloudflare to restrict access</title>\n",
       "<meta charset=\"utf-8\"/>\n",
       "<meta content=\"text/html; charset=utf-8\" http-equiv=\"Content-Type\"/>\n",
       "<meta content=\"IE=Edge,chrome=1\" http-equiv=\"X-UA-Compatible\"/>\n",
       "<meta content=\"noindex, nofollow\" name=\"robots\"/>\n",
       "<meta content=\"width=device-width,initial-scale=1\" name=\"viewport\"/>\n",
       "<link href=\"/cdn-cgi/styles/main.css\" id=\"cf_styles-css\" media=\"screen,projection\" rel=\"stylesheet\" type=\"text/css\"/>\n",
       "<script async=\"\" src=\"/cdn-cgi/bm/cv/669835187/api.js\"></script></head>\n",
       "<body>\n",
       "<div id=\"cf-wrapper\">\n",
       "<div class=\"cf-alert cf-alert-error cf-cookie-error hidden\" data-translate=\"enable_cookies\" id=\"cookie-alert\">Please enable cookies.</div>\n",
       "<div class=\"p-0\" id=\"cf-error-details\">\n",
       "<header class=\"mx-auto pt-10 lg:pt-6 lg:px-8 w-240 lg:w-full mb-15 antialiased\">\n",
       "<h1 class=\"inline-block md:block mr-2 md:mb-2 font-light text-60 md:text-3xl text-black-dark leading-tight\">\n",
       "<span data-translate=\"error\">Error</span>\n",
       "<span>1020</span>\n",
       "</h1>\n",
       "<span class=\"inline-block md:block heading-ray-id font-mono text-15 lg:text-sm lg:leading-relaxed\">Ray ID: 614c0370cf11caa4 •</span>\n",
       "<span class=\"inline-block md:block heading-ray-id font-mono text-15 lg:text-sm lg:leading-relaxed\">2021-01-20 21:50:51 UTC</span>\n",
       "<h2 class=\"text-gray-600 leading-1.3 text-3xl lg:text-2xl font-light\">Access denied</h2>\n",
       "</header>\n",
       "<section class=\"w-240 lg:w-full mx-auto mb-8 lg:px-8\">\n",
       "<div class=\"w-1/2 md:w-full\" id=\"what-happened-section\">\n",
       "<h2 class=\"text-3xl leading-tight font-normal mb-4 text-black-dark antialiased\" data-translate=\"what_happened\">What happened?</h2>\n",
       "<p>This website is using a security service to protect itself from online attacks.</p>\n",
       "</div>\n",
       "</section>\n",
       "<div class=\"cf-error-footer cf-wrapper w-240 lg:w-full py-10 sm:py-4 sm:px-8 mx-auto text-center sm:text-left border-solid border-0 border-t border-gray-300\">\n",
       "<p class=\"text-13\">\n",
       "<span class=\"cf-footer-item sm:block sm:mb-1\">Cloudflare Ray ID: <strong class=\"font-semibold\">614c0370cf11caa4</strong></span>\n",
       "<span class=\"cf-footer-separator sm:hidden\">•</span>\n",
       "<span class=\"cf-footer-item sm:block sm:mb-1\"><span>Your IP</span>: 158.85.82.98</span>\n",
       "<span class=\"cf-footer-separator sm:hidden\">•</span>\n",
       "<span class=\"cf-footer-item sm:block sm:mb-1\"><span>Performance &amp; security by</span> <a href=\"https://www.cloudflare.com/5xx-error-landing\" id=\"brand_link\" rel=\"noopener noreferrer\" target=\"_blank\">Cloudflare</a></span>\n",
       "</p>\n",
       "</div><!-- /.error-footer -->\n",
       "</div><!-- /#cf-error-details -->\n",
       "</div><!-- /#cf-wrapper -->\n",
       "<script type=\"text/javascript\">\n",
       "  window._cf_translation = {};\n",
       "  \n",
       "  \n",
       "</script>\n",
       "<script type=\"text/javascript\">(function(){window['__CF$cv$params']={r:'614c0370cf11caa4',m:'71bc01195e699f13bbf8fe13275e59cfc8fddc6e-1611179451-1800-AeAQNLImyIiVpvXDbHlaNRXBj2uJIKzSBpoj82fzYkIBpG0QKvtHw8+wQouOPri0YvEx/VfUk4wfaxfcvu2/hsB3AlvJHk2itPTuIb3FAT/Q0tTwWYbhbBKUqsmhBJaEsKIhPQdyzCiZD100sFa1Fw4=',s:[0xb39f177be5,0x97a71ab094],}})();</script></body>\n",
       "</html>"
      ]
     },
     "execution_count": 18,
     "metadata": {},
     "output_type": "execute_result"
    }
   ],
   "source": [
    "soup"
   ]
  },
  {
   "cell_type": "code",
   "execution_count": 14,
   "metadata": {},
   "outputs": [],
   "source": [
    "results = soup.find(id='profile-bio-name')"
   ]
  },
  {
   "cell_type": "code",
   "execution_count": 16,
   "metadata": {},
   "outputs": [
    {
     "name": "stdout",
     "output_type": "stream",
     "text": [
      "None\n"
     ]
    }
   ],
   "source": [
    "print (results)"
   ]
  },
  {
   "cell_type": "code",
   "execution_count": null,
   "metadata": {},
   "outputs": [],
   "source": []
  }
 ],
 "metadata": {
  "kernelspec": {
   "display_name": "Python",
   "language": "python",
   "name": "conda-env-python-py"
  },
  "language_info": {
   "codemirror_mode": {
    "name": "ipython",
    "version": 3
   },
   "file_extension": ".py",
   "mimetype": "text/x-python",
   "name": "python",
   "nbconvert_exporter": "python",
   "pygments_lexer": "ipython3",
   "version": "3.6.12"
  }
 },
 "nbformat": 4,
 "nbformat_minor": 4
}
